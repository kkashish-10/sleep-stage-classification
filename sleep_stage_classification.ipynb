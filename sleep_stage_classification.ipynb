{
 "cells": [
  {
   "cell_type": "markdown",
   "metadata": {},
   "source": [
    "Problem Statement\n",
    "Classifying sleep stage using EEG and EOG data\n",
    "\n",
    "Data Source:- Ask Palak<br>\n",
    "Data format : "
   ]
  },
  {
   "cell_type": "markdown",
   "metadata": {},
   "source": [
    "Reading the data"
   ]
  },
  {
   "cell_type": "code",
   "execution_count": 1,
   "metadata": {},
   "outputs": [],
   "source": [
    "from pandas import read_csv,unique"
   ]
  },
  {
   "cell_type": "code",
   "execution_count": 25,
   "metadata": {},
   "outputs": [
    {
     "data": {
      "text/html": [
       "<div>\n",
       "<style scoped>\n",
       "    .dataframe tbody tr th:only-of-type {\n",
       "        vertical-align: middle;\n",
       "    }\n",
       "\n",
       "    .dataframe tbody tr th {\n",
       "        vertical-align: top;\n",
       "    }\n",
       "\n",
       "    .dataframe thead th {\n",
       "        text-align: right;\n",
       "    }\n",
       "</style>\n",
       "<table border=\"1\" class=\"dataframe\">\n",
       "  <thead>\n",
       "    <tr style=\"text-align: right;\">\n",
       "      <th></th>\n",
       "      <th>Date</th>\n",
       "      <th>Time</th>\n",
       "      <th>Recording onset</th>\n",
       "      <th>Duration</th>\n",
       "      <th>Annotation</th>\n",
       "      <th>Linked channel</th>\n",
       "    </tr>\n",
       "  </thead>\n",
       "  <tbody>\n",
       "    <tr>\n",
       "      <th>0</th>\n",
       "      <td>01.01.01</td>\n",
       "      <td>23.59.30</td>\n",
       "      <td>0.00</td>\n",
       "      <td>30</td>\n",
       "      <td>Sleep stage W</td>\n",
       "      <td></td>\n",
       "    </tr>\n",
       "    <tr>\n",
       "      <th>1</th>\n",
       "      <td>02.01.01</td>\n",
       "      <td>00.00.00</td>\n",
       "      <td>30.00</td>\n",
       "      <td>30</td>\n",
       "      <td>Sleep stage W</td>\n",
       "      <td></td>\n",
       "    </tr>\n",
       "    <tr>\n",
       "      <th>2</th>\n",
       "      <td>02.01.01</td>\n",
       "      <td>00.00.03.430</td>\n",
       "      <td>33.43</td>\n",
       "      <td>0</td>\n",
       "      <td>Lights off</td>\n",
       "      <td>EEG F4-A1</td>\n",
       "    </tr>\n",
       "    <tr>\n",
       "      <th>3</th>\n",
       "      <td>02.01.01</td>\n",
       "      <td>00.00.30</td>\n",
       "      <td>60.00</td>\n",
       "      <td>30</td>\n",
       "      <td>Sleep stage W</td>\n",
       "      <td></td>\n",
       "    </tr>\n",
       "    <tr>\n",
       "      <th>4</th>\n",
       "      <td>02.01.01</td>\n",
       "      <td>00.01.00</td>\n",
       "      <td>90.00</td>\n",
       "      <td>30</td>\n",
       "      <td>Sleep stage W</td>\n",
       "      <td></td>\n",
       "    </tr>\n",
       "  </tbody>\n",
       "</table>\n",
       "</div>"
      ],
      "text/plain": [
       "       Date           Time  ...      Annotation  Linked channel\n",
       "0  01.01.01       23.59.30  ...   Sleep stage W                \n",
       "1  02.01.01       00.00.00  ...   Sleep stage W                \n",
       "2  02.01.01   00.00.03.430  ...      Lights off       EEG F4-A1\n",
       "3  02.01.01       00.00.30  ...   Sleep stage W                \n",
       "4  02.01.01       00.01.00  ...   Sleep stage W                \n",
       "\n",
       "[5 rows x 6 columns]"
      ]
     },
     "execution_count": 25,
     "metadata": {},
     "output_type": "execute_result"
    }
   ],
   "source": [
    "raw_data=read_csv('../sleep-stage-classification/dataset/SN001_sleepscoring.txt')\n",
    "raw_data.head()\n"
   ]
  },
  {
   "cell_type": "code",
   "execution_count": 26,
   "metadata": {},
   "outputs": [
    {
     "data": {
      "text/html": [
       "<div>\n",
       "<style scoped>\n",
       "    .dataframe tbody tr th:only-of-type {\n",
       "        vertical-align: middle;\n",
       "    }\n",
       "\n",
       "    .dataframe tbody tr th {\n",
       "        vertical-align: top;\n",
       "    }\n",
       "\n",
       "    .dataframe thead th {\n",
       "        text-align: right;\n",
       "    }\n",
       "</style>\n",
       "<table border=\"1\" class=\"dataframe\">\n",
       "  <thead>\n",
       "    <tr style=\"text-align: right;\">\n",
       "      <th></th>\n",
       "      <th>count</th>\n",
       "      <th>mean</th>\n",
       "      <th>std</th>\n",
       "      <th>min</th>\n",
       "      <th>25%</th>\n",
       "      <th>50%</th>\n",
       "      <th>75%</th>\n",
       "      <th>max</th>\n",
       "    </tr>\n",
       "  </thead>\n",
       "  <tbody>\n",
       "    <tr>\n",
       "      <th>Recording onset</th>\n",
       "      <td>856.0</td>\n",
       "      <td>12795.072582</td>\n",
       "      <td>7417.375736</td>\n",
       "      <td>0.0</td>\n",
       "      <td>6382.5</td>\n",
       "      <td>12795.0</td>\n",
       "      <td>19207.5</td>\n",
       "      <td>25618.7</td>\n",
       "    </tr>\n",
       "    <tr>\n",
       "      <th>Duration</th>\n",
       "      <td>856.0</td>\n",
       "      <td>29.929907</td>\n",
       "      <td>1.449256</td>\n",
       "      <td>0.0</td>\n",
       "      <td>30.0</td>\n",
       "      <td>30.0</td>\n",
       "      <td>30.0</td>\n",
       "      <td>30.0</td>\n",
       "    </tr>\n",
       "  </tbody>\n",
       "</table>\n",
       "</div>"
      ],
      "text/plain": [
       "                 count          mean          std  ...      50%      75%      max\n",
       "Recording onset  856.0  12795.072582  7417.375736  ...  12795.0  19207.5  25618.7\n",
       "Duration         856.0     29.929907     1.449256  ...     30.0     30.0     30.0\n",
       "\n",
       "[2 rows x 8 columns]"
      ]
     },
     "execution_count": 26,
     "metadata": {},
     "output_type": "execute_result"
    }
   ],
   "source": [
    "raw_data.describe().transpose()"
   ]
  },
  {
   "cell_type": "markdown",
   "metadata": {},
   "source": [
    "Exploratory data analysis"
   ]
  },
  {
   "cell_type": "code",
   "execution_count": 27,
   "metadata": {},
   "outputs": [
    {
     "name": "stdout",
     "output_type": "stream",
     "text": [
      "Date   2\n",
      "Time   856\n",
      "Recording onset   856\n",
      "Duration   2\n",
      "Annotation   7\n",
      "Linked channel   3\n"
     ]
    }
   ],
   "source": [
    "#check for count of unique values in different columns \n",
    "col_names_rd = raw_data.columns\n",
    "for col in col_names_rd:\n",
    "    print(col,\" \",len(unique(raw_data[col])))"
   ]
  },
  {
   "cell_type": "code",
   "execution_count": 28,
   "metadata": {},
   "outputs": [
    {
     "name": "stdout",
     "output_type": "stream",
     "text": [
      "Date \n",
      " 02.01.01    855\n",
      "01.01.01      1\n",
      "Name: Date, dtype: int64\n",
      "Duration \n",
      " 30    854\n",
      "0       2\n",
      "Name: Duration, dtype: int64\n",
      "Annotation \n",
      "  Sleep stage N2    430\n",
      " Sleep stage W     151\n",
      " Sleep stage R     141\n",
      " Sleep stage N1    109\n",
      " Sleep stage N3     23\n",
      " Lights off          1\n",
      " Lights on           1\n",
      "Name: Annotation, dtype: int64\n",
      "Linked channel \n",
      "                854\n",
      " EEG F4-A1       1\n",
      " EEG Fpz-Cz      1\n",
      "Name: Linked channel, dtype: int64\n"
     ]
    }
   ],
   "source": [
    "# take a look at columns with low count of unique values\n",
    "for col in col_names_rd:\n",
    "    if(len(unique(raw_data[col]))<raw_data.shape[0]/2):\n",
    "        print(col,\"\\n\",raw_data[col].value_counts())"
   ]
  },
  {
   "cell_type": "markdown",
   "metadata": {},
   "source": [
    "There are only 3 channels and most of the records have missing Linked channels\n",
    "Two records have Lights data instead of Sleep stage these two records can be dropped too.\n",
    "Two records with duration value 0 can be dropped."
   ]
  },
  {
   "cell_type": "markdown",
   "metadata": {},
   "source": [
    "<h3> Plotting various plots for data visualization"
   ]
  },
  {
   "cell_type": "code",
   "execution_count": 62,
   "metadata": {},
   "outputs": [],
   "source": [
    "from matplotlib.pyplot import plot,xticks,show,xlabel,ylabel,title,figure"
   ]
  },
  {
   "cell_type": "code",
   "execution_count": 74,
   "metadata": {},
   "outputs": [
    {
     "data": {
      "image/png": "[encoded data removed]",
      "text/plain": [
       "<Figure size 720x504 with 1 Axes>"
      ]
     },
     "metadata": {
      "needs_background": "light"
     },
     "output_type": "display_data"
    }
   ],
   "source": [
    "plot_data=raw_data['Annotation'].value_counts()\n",
    "figure(figsize=(10,7))\n",
    "title(\"Sleep Stage Data\")\n",
    "xlabel('Sleep Stage')\n",
    "ylabel('Total records for Sleep stage(x)')\n",
    "plot(plot_data,'-o')\n",
    "xticks(rotation=90)\n",
    "show()"
   ]
  },
  {
   "cell_type": "markdown",
   "metadata": {},
   "source": [
    "Convert the .edf data file into csv for smooth processing of data"
   ]
  },
  {
   "cell_type": "code",
   "execution_count": 6,
   "metadata": {},
   "outputs": [],
   "source": [
    "from mne.io import read_raw_edf\n",
    "from numpy import savetxt"
   ]
  },
  {
   "cell_type": "markdown",
   "metadata": {},
   "source": [
    "Read the edf file, extract channel names"
   ]
  },
  {
   "cell_type": "code",
   "execution_count": 2,
   "metadata": {},
   "outputs": [
    {
     "name": "stdout",
     "output_type": "stream",
     "text": [
      "Extracting EDF parameters from e:\\github\\sleep-stage-classification\\dataset\\SN001.edf...\n",
      "EDF file detected\n",
      "Setting channel info structure...\n",
      "Creating raw.info structure...\n"
     ]
    }
   ],
   "source": [
    "edf_file=read_raw_edf('../sleep-stage-classification/dataset/SN001.edf')"
   ]
  },
  {
   "cell_type": "code",
   "execution_count": 8,
   "metadata": {},
   "outputs": [],
   "source": [
    "headers=','.join(edf_file.ch_names) # channel names\n",
    "savetxt('../sleep-stage-classification/dataset/SN001.csv',edf_file.get_data().T,delimiter=',',header=headers)"
   ]
  }
 ],
 "metadata": {
  "interpreter": {
   "hash": "81eabd75b975cc715ca6709304cee24fae59e26dd2bb898d21631fe620fd8763"
  },
  "kernelspec": {
   "display_name": "Python 3.10.4 ('WhatsappAutomation')",
   "language": "python",
   "name": "python3"
  },
  "language_info": {
   "codemirror_mode": {
    "name": "ipython",
    "version": 3
   },
   "file_extension": ".py",
   "mimetype": "text/x-python",
   "name": "python",
   "nbconvert_exporter": "python",
   "pygments_lexer": "ipython3",
   "version": "3.9.7"
  },
  "orig_nbformat": 4
 },
 "nbformat": 4,
 "nbformat_minor": 2
}
